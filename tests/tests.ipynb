{
 "cells": [
  {
   "cell_type": "code",
   "execution_count": 20,
   "id": "681c8bd2",
   "metadata": {},
   "outputs": [
    {
     "name": "stdout",
     "output_type": "stream",
     "text": [
      "torch.uint8\n",
      "torch.Size([50000, 3, 32, 32])\n",
      "torch.uint8\n",
      "torch.Size([50000, 3, 32, 32])\n",
      "torch.uint8\n",
      "torch.Size([1000, 3, 32, 32])\n",
      "torch.uint8\n",
      "torch.Size([1000, 3, 32, 32])\n"
     ]
    },
    {
     "data": {
      "text/plain": [
       "<matplotlib.image.AxesImage at 0x17288b3c940>"
      ]
     },
     "execution_count": 20,
     "metadata": {},
     "output_type": "execute_result"
    },
    {
     "data": {
      "image/png": "[encoded data removed]",
      "text/plain": [
       "<Figure size 432x288 with 1 Axes>"
      ]
     },
     "metadata": {
      "needs_background": "light"
     },
     "output_type": "display_data"
    }
   ],
   "source": [
    "import torch\n",
    "import matplotlib.pyplot as plt\n",
    "\n",
    "train_dir = \"train_data.pkl\"\n",
    "val_dir = \"val_data.pkl\"\n",
    "noisy_imgs_1 , noisy_imgs_2 = torch.load(\"train_data.pkl\")\n",
    "noisy_imgs , clean_imgs = torch.load(\"val_data.pkl\")\n",
    "\n",
    "print(noisy_imgs_1.dtype)\n",
    "print(noisy_imgs_1.shape)\n",
    "print(noisy_imgs_2.dtype)\n",
    "print(noisy_imgs_2.shape)\n",
    "print(noisy_imgs.dtype)\n",
    "print(noisy_imgs.shape)\n",
    "print(clean_imgs.dtype)\n",
    "print(clean_imgs.shape)\n",
    "\n",
    "plt.imshow((noisy_imgs_1[1].float()/255.0).permute(1, 2, 0))"
   ]
  },
  {
   "cell_type": "code",
   "execution_count": 26,
   "id": "62671fc8",
   "metadata": {},
   "outputs": [
    {
     "ename": "ModuleNotFoundError",
     "evalue": "No module named 'sklearn'",
     "output_type": "error",
     "traceback": [
      "\u001b[1;31m---------------------------------------------------------------------------\u001b[0m",
      "\u001b[1;31mModuleNotFoundError\u001b[0m                       Traceback (most recent call last)",
      "\u001b[1;32m<ipython-input-26-b7c74cbf5af0>\u001b[0m in \u001b[0;36m<module>\u001b[1;34m\u001b[0m\n\u001b[1;32m----> 1\u001b[1;33m \u001b[1;32mimport\u001b[0m \u001b[0msklearn\u001b[0m\u001b[1;33m\u001b[0m\u001b[1;33m\u001b[0m\u001b[0m\n\u001b[0m",
      "\u001b[1;31mModuleNotFoundError\u001b[0m: No module named 'sklearn'"
     ]
    }
   ],
   "source": [
    "import sklearn"
   ]
  },
  {
   "cell_type": "code",
   "execution_count": 21,
   "id": "f8230e01",
   "metadata": {},
   "outputs": [],
   "source": [
    "from tqdm.notebook import tqdm #Make sure to only import from tqdm and not from tqdm.notebook when leaving the notebook\n",
    "import torch\n",
    "import torch.nn as nn\n",
    "import torch.optim as optim\n",
    "from torch.utils.data import Dataset, DataLoader\n",
    "from unet import *\n",
    "\n",
    "class NoisyDataset(Dataset):\n",
    "    def __init__(self, X, Y):\n",
    "        assert X.shape == Y.shape and X.ndim == 4\n",
    "        self.X = X\n",
    "        self.Y = Y\n",
    "\n",
    "    def __len__(self):\n",
    "        return self.X.shape[0]\n",
    "\n",
    "    def __getitem__(self, index):\n",
    "        return self.X[index], self.Y[index]\n",
    "    \n",
    "class Model():\n",
    "    def __init__(self) -> None:\n",
    "        self.device = torch.device('cuda' if torch.cuda.is_available() else 'cpu')\n",
    "        self.model = UNet(3, 3).to(self.device)\n",
    "        \n",
    "    def load_pretrained_model(self, filename=\"bestmodel\") -> None:\n",
    "        checkpoint = torch.load(filename+\".pth\", map_location=self.device)\n",
    "        self.model.load_state_dict(checkpoint['model_state_dict'])\n",
    "    \n",
    "    def save_trained_model(self, filename=\"bestmodel\") -> None:\n",
    "        torch.save({'model_state_dict': self.model.state_dict()}, filename+\".pth\")\n",
    "        \n",
    "    def predict(self, test_input) -> torch.Tensor:\n",
    "        torch.cuda.empty_cache()\n",
    "        self.model.eval()\n",
    "        with torch.no_grad():\n",
    "            out = self.model(test_input.to(self.device))\n",
    "            return out\n",
    "    \n",
    "    def train_epoch(self, loader, optimizer, loss_fn) -> None:\n",
    "        scaler = None if not torch.cuda.is_available() else torch.cuda.amp.GradScaler() #Speedup computation tricks. See https://pytorch.org/docs/stable/amp.html\n",
    "        loop = tqdm(loader)\n",
    "\n",
    "        for data, targets in loop:\n",
    "            data = data.to(self.device)\n",
    "            targets = targets.to(self.device)\n",
    "\n",
    "            # forward\n",
    "            if scaler is not None:\n",
    "                with torch.cuda.amp.autocast(): #Speedup computation tricks. See https://pytorch.org/docs/stable/amp.html\n",
    "                    predictions = self.model(data)\n",
    "                    loss = loss_fn(predictions, targets)\n",
    "            else:\n",
    "                predictions = self.model(data)\n",
    "                loss = loss_fn(predictions, targets)\n",
    "\n",
    "            # backward\n",
    "            optimizer.zero_grad()\n",
    "            if scaler is not None:\n",
    "                scaler.scale(loss).backward()\n",
    "                scaler.step(optimizer)\n",
    "                scaler.update()\n",
    "            else:\n",
    "                loss.backward()\n",
    "                optimizer.step()\n",
    "\n",
    "            loop.set_postfix(loss=loss.item())\n",
    "\n",
    "    def train(self, train_input, train_target, num_epochs=10, batch_size=100, learning_rate=10e-4) -> None:\n",
    "        torch.cuda.empty_cache()\n",
    "        dataset = NoisyDataset(train_input, train_target)\n",
    "\n",
    "        loss_fn = nn.MSELoss()\n",
    "        optimizer = optim.Adam(self.model.parameters(), lr=learning_rate)\n",
    "\n",
    "        self.model.train()\n",
    "        for epoch in tqdm(range(num_epochs)):\n",
    "            dataloader = DataLoader(dataset, batch_size=batch_size, shuffle=True)\n",
    "            self.train_epoch(dataloader, optimizer, loss_fn)"
   ]
  },
  {
   "cell_type": "code",
   "execution_count": 22,
   "id": "e8be3268",
   "metadata": {},
   "outputs": [],
   "source": [
    "def compute_psnr(denoised, target, max_range=1.0):\n",
    "    assert denoised.shape == target.shape and denoised.ndim == 4\n",
    "    return 20 * torch.log10(torch.tensor(max_range)) - 10 * torch.log10(((denoised-target) ** 2).mean((1,2,3))).mean()\n",
    "\n",
    "def train_model(save_model=False, load_model=False):\n",
    "    model = Model()\n",
    "\n",
    "    train_input0, train_input1 = torch.load(train_dir)\n",
    "    val_input, val_target = torch.load(val_dir)\n",
    "\n",
    "    train_input0 = train_input0.float() / 255.0\n",
    "    train_input1 = train_input1.float() / 255.0\n",
    "    val_input = val_input.float() / 255.0\n",
    "    val_target = val_target.float() / 255.0\n",
    "\n",
    "    output_psnr_before = compute_psnr(val_input, val_target)\n",
    "\n",
    "    if load_model:\n",
    "        model.load_pretrained_model()\n",
    "    else:\n",
    "        model.train(train_input0, train_input1)\n",
    "        if save_model:\n",
    "            model.save_trained_model()\n",
    "\n",
    "    mini_batch_size = 100\n",
    "    model_outputs = []\n",
    "    for b in tqdm(range(0, val_input.size(0), mini_batch_size)):\n",
    "        output = model.predict(val_input.narrow(0, b, mini_batch_size))\n",
    "        model_outputs.append(output.cpu())\n",
    "    model_outputs = torch.cat(model_outputs, dim=0)\n",
    "\n",
    "    output_psnr_after = compute_psnr(model_outputs, val_target)\n",
    "    print(f\"[PSNR : {output_psnr_after:.2f} dB], PSNR before training = {output_psnr_before:.2f} dB\")\n",
    "    return model_outputs"
   ]
  },
  {
   "cell_type": "code",
   "execution_count": 25,
   "id": "5d010b0d",
   "metadata": {
    "scrolled": false
   },
   "outputs": [
    {
     "data": {
      "application/vnd.jupyter.widget-view+json": {
       "model_id": "85dcd4c3657b45ceae80ac7eb6263229",
       "version_major": 2,
       "version_minor": 0
      },
      "text/plain": [
       "HBox(children=(FloatProgress(value=0.0, max=10.0), HTML(value='')))"
      ]
     },
     "metadata": {},
     "output_type": "display_data"
    },
    {
     "data": {
      "application/vnd.jupyter.widget-view+json": {
       "model_id": "8b33aa061e284afc95e89109662df390",
       "version_major": 2,
       "version_minor": 0
      },
      "text/plain": [
       "HBox(children=(FloatProgress(value=0.0, max=500.0), HTML(value='')))"
      ]
     },
     "metadata": {},
     "output_type": "display_data"
    },
    {
     "name": "stdout",
     "output_type": "stream",
     "text": [
      "\n"
     ]
    },
    {
     "data": {
      "application/vnd.jupyter.widget-view+json": {
       "model_id": "7d1d62932d6f4393bf3dffc16cd713c5",
       "version_major": 2,
       "version_minor": 0
      },
      "text/plain": [
       "HBox(children=(FloatProgress(value=0.0, max=500.0), HTML(value='')))"
      ]
     },
     "metadata": {},
     "output_type": "display_data"
    },
    {
     "name": "stdout",
     "output_type": "stream",
     "text": [
      "\n"
     ]
    },
    {
     "data": {
      "application/vnd.jupyter.widget-view+json": {
       "model_id": "7c43b1de6d8947adb17f2a4cbf830c38",
       "version_major": 2,
       "version_minor": 0
      },
      "text/plain": [
       "HBox(children=(FloatProgress(value=0.0, max=500.0), HTML(value='')))"
      ]
     },
     "metadata": {},
     "output_type": "display_data"
    },
    {
     "name": "stdout",
     "output_type": "stream",
     "text": [
      "\n"
     ]
    },
    {
     "data": {
      "application/vnd.jupyter.widget-view+json": {
       "model_id": "77152bd27c8f47b7b83154531cb302ce",
       "version_major": 2,
       "version_minor": 0
      },
      "text/plain": [
       "HBox(children=(FloatProgress(value=0.0, max=500.0), HTML(value='')))"
      ]
     },
     "metadata": {},
     "output_type": "display_data"
    },
    {
     "name": "stdout",
     "output_type": "stream",
     "text": [
      "\n"
     ]
    },
    {
     "data": {
      "application/vnd.jupyter.widget-view+json": {
       "model_id": "ff09239a14d446ca903046ce67f7eb09",
       "version_major": 2,
       "version_minor": 0
      },
      "text/plain": [
       "HBox(children=(FloatProgress(value=0.0, max=500.0), HTML(value='')))"
      ]
     },
     "metadata": {},
     "output_type": "display_data"
    },
    {
     "name": "stdout",
     "output_type": "stream",
     "text": [
      "\n"
     ]
    },
    {
     "data": {
      "application/vnd.jupyter.widget-view+json": {
       "model_id": "bb6e439da968422c96f34784b2287299",
       "version_major": 2,
       "version_minor": 0
      },
      "text/plain": [
       "HBox(children=(FloatProgress(value=0.0, max=500.0), HTML(value='')))"
      ]
     },
     "metadata": {},
     "output_type": "display_data"
    },
    {
     "name": "stdout",
     "output_type": "stream",
     "text": [
      "\n"
     ]
    },
    {
     "data": {
      "application/vnd.jupyter.widget-view+json": {
       "model_id": "a23f5f0b63a5421697b7abb7068bbe5e",
       "version_major": 2,
       "version_minor": 0
      },
      "text/plain": [
       "HBox(children=(FloatProgress(value=0.0, max=500.0), HTML(value='')))"
      ]
     },
     "metadata": {},
     "output_type": "display_data"
    },
    {
     "name": "stdout",
     "output_type": "stream",
     "text": [
      "\n"
     ]
    },
    {
     "data": {
      "application/vnd.jupyter.widget-view+json": {
       "model_id": "bcbaf717fb704d178749fa91db1fb3b9",
       "version_major": 2,
       "version_minor": 0
      },
      "text/plain": [
       "HBox(children=(FloatProgress(value=0.0, max=500.0), HTML(value='')))"
      ]
     },
     "metadata": {},
     "output_type": "display_data"
    },
    {
     "name": "stdout",
     "output_type": "stream",
     "text": [
      "\n"
     ]
    },
    {
     "data": {
      "application/vnd.jupyter.widget-view+json": {
       "model_id": "5e5f86c6043d42248947267d6c096a10",
       "version_major": 2,
       "version_minor": 0
      },
      "text/plain": [
       "HBox(children=(FloatProgress(value=0.0, max=500.0), HTML(value='')))"
      ]
     },
     "metadata": {},
     "output_type": "display_data"
    },
    {
     "name": "stdout",
     "output_type": "stream",
     "text": [
      "\n"
     ]
    },
    {
     "data": {
      "application/vnd.jupyter.widget-view+json": {
       "model_id": "53539a8653ce4931b6881cdff851b454",
       "version_major": 2,
       "version_minor": 0
      },
      "text/plain": [
       "HBox(children=(FloatProgress(value=0.0, max=500.0), HTML(value='')))"
      ]
     },
     "metadata": {},
     "output_type": "display_data"
    },
    {
     "name": "stdout",
     "output_type": "stream",
     "text": [
      "\n",
      "\n"
     ]
    },
    {
     "data": {
      "application/vnd.jupyter.widget-view+json": {
       "model_id": "51df3d520b234d9b86b6ccb16e38d45b",
       "version_major": 2,
       "version_minor": 0
      },
      "text/plain": [
       "HBox(children=(FloatProgress(value=0.0, max=10.0), HTML(value='')))"
      ]
     },
     "metadata": {},
     "output_type": "display_data"
    },
    {
     "name": "stdout",
     "output_type": "stream",
     "text": [
      "\n",
      "[PSNR : 24.47 dB], PSNR before training = 20.72 dB\n"
     ]
    }
   ],
   "source": [
    "model_outputs = train_model(save_model=True, load_model=False)"
   ]
  },
  {
   "cell_type": "code",
   "execution_count": 24,
   "id": "fb1db1d9",
   "metadata": {},
   "outputs": [
    {
     "data": {
      "image/png": "[encoded data removed]",
      "text/plain": [
       "<Figure size 432x288 with 1 Axes>"
      ]
     },
     "metadata": {
      "needs_background": "light"
     },
     "output_type": "display_data"
    }
   ],
   "source": [
    "def plot_prediction_clean(img_noisy, img_clean, img_pred):\n",
    "    assert img_noisy.ndim == img_clean.ndim == img_pred.ndim, \"images should have same shape\"\n",
    "    if img_noisy.ndim == 4:\n",
    "        assert img_noisy.shape[0] == img_clean.shape[0] == img_pred.shape[0] == 1, \"can only plot for a single image\"\n",
    "        img_n = torch.squeeze(img_noisy).permute(1, 2, 0)\n",
    "        img_c = torch.squeeze(img_clean).permute(1, 2, 0)\n",
    "        img_p = torch.squeeze(img_pred).permute(1, 2, 0)\n",
    "        img = torch.cat((img_n, img_c, img_p), dim=1)\n",
    "        plt.imshow(img)\n",
    "    else:\n",
    "        assert img_noisy.ndim == 3, \"image should be of the form nbChannels x height x width\"\n",
    "        img_n = img_noisy.permute(1, 2, 0)\n",
    "        img_c = img_clean.permute(1, 2, 0)\n",
    "        img_p = img_pred.permute(1, 2, 0)\n",
    "        img = torch.cat((img_n, img_c, img_p), dim=1)\n",
    "        plt.imshow(img)\n",
    "\n",
    "i = 10\n",
    "plot_prediction_clean(noisy_imgs[i].float()/255.0, clean_imgs[i].float()/255.0, model_outputs[i])"
   ]
  },
  {
   "cell_type": "code",
   "execution_count": null,
   "id": "db991b81",
   "metadata": {},
   "outputs": [],
   "source": []
  }
 ],
 "metadata": {
  "kernelspec": {
   "display_name": "Python 3",
   "language": "python",
   "name": "python3"
  },
  "language_info": {
   "codemirror_mode": {
    "name": "ipython",
    "version": 3
   },
   "file_extension": ".py",
   "mimetype": "text/x-python",
   "name": "python",
   "nbconvert_exporter": "python",
   "pygments_lexer": "ipython3",
   "version": "3.6.13"
  }
 },
 "nbformat": 4,
 "nbformat_minor": 5
}
