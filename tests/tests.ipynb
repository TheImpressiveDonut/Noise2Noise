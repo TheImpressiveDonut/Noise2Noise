{
 "cells": [
  {
   "cell_type": "code",
   "execution_count": 1,
   "id": "681c8bd2",
   "metadata": {},
   "outputs": [
    {
     "name": "stdout",
     "output_type": "stream",
     "text": [
      "torch.uint8\n",
      "torch.Size([50000, 3, 32, 32])\n",
      "torch.uint8\n",
      "torch.Size([50000, 3, 32, 32])\n",
      "torch.uint8\n",
      "torch.Size([1000, 3, 32, 32])\n",
      "torch.uint8\n",
      "torch.Size([1000, 3, 32, 32])\n"
     ]
    },
    {
     "data": {
      "text/plain": [
       "<matplotlib.image.AxesImage at 0x23143be8ba8>"
      ]
     },
     "execution_count": 1,
     "metadata": {},
     "output_type": "execute_result"
    },
    {
     "data": {
      "image/png": "[encoded data removed]",
      "text/plain": [
       "<Figure size 432x288 with 1 Axes>"
      ]
     },
     "metadata": {
      "needs_background": "light"
     },
     "output_type": "display_data"
    }
   ],
   "source": [
    "import torch\n",
    "import matplotlib.pyplot as plt\n",
    "\n",
    "train_dir = \"train_data.pkl\"\n",
    "val_dir = \"val_data.pkl\"\n",
    "noisy_imgs_1 , noisy_imgs_2 = torch.load(\"train_data.pkl\")\n",
    "noisy_imgs , clean_imgs = torch.load(\"val_data.pkl\")\n",
    "\n",
    "print(noisy_imgs_1.dtype)\n",
    "print(noisy_imgs_1.shape)\n",
    "print(noisy_imgs_2.dtype)\n",
    "print(noisy_imgs_2.shape)\n",
    "print(noisy_imgs.dtype)\n",
    "print(noisy_imgs.shape)\n",
    "print(clean_imgs.dtype)\n",
    "print(clean_imgs.shape)\n",
    "\n",
    "plt.imshow((noisy_imgs_1[1].float()/255.0).permute(1, 2, 0))"
   ]
  },
  {
   "cell_type": "code",
   "execution_count": 2,
   "id": "f8230e01",
   "metadata": {},
   "outputs": [],
   "source": [
    "from tqdm.notebook import tqdm #Make sure to only import from tqdm and not from tqdm.notebook when leaving the notebook\n",
    "import torch\n",
    "import torch.nn as nn\n",
    "import torch.optim as optim\n",
    "from torch.utils.data import Dataset, DataLoader\n",
    "from unet import *\n",
    "\n",
    "class NoisyDataset(Dataset):\n",
    "    def __init__(self, X, Y):\n",
    "        assert X.shape == Y.shape and X.ndim == 4\n",
    "        self.X = X\n",
    "        self.Y = Y\n",
    "\n",
    "    def __len__(self):\n",
    "        return self.X.shape[0]\n",
    "\n",
    "    def __getitem__(self, index):\n",
    "        return self.X[index], self.Y[index]\n",
    "    \n",
    "class Model():\n",
    "    def __init__(self) -> None:\n",
    "        self.device = torch.device('cuda' if torch.cuda.is_available() else 'cpu')\n",
    "        self.model = UNet(3, 3).to(self.device)\n",
    "        \n",
    "    def load_pretrained_model(self, filename=\"bestmodel\") -> None:\n",
    "        checkpoint = torch.load(filename+\".pth\", map_location=self.device)\n",
    "        self.model.load_state_dict(checkpoint['model_state_dict'])\n",
    "    \n",
    "    def save_trained_model(self, filename=\"bestmodel\") -> None:\n",
    "        torch.save({'model_state_dict': self.model.state_dict()}, filename+\".pth\")\n",
    "        \n",
    "    def predict(self, test_input) -> torch.Tensor:\n",
    "        torch.cuda.empty_cache()\n",
    "        self.model.eval()\n",
    "        return self.model(test_input.to(self.device))\n",
    "    \n",
    "    def train_epoch(self, loader, optimizer, loss_fn) -> None:\n",
    "        scaler = None if not torch.cuda.is_available() else torch.cuda.amp.GradScaler() #Speedup computation tricks. See https://pytorch.org/docs/stable/amp.html\n",
    "        loop = tqdm(loader)\n",
    "\n",
    "        for data, targets in loop:\n",
    "            data = data.to(self.device)\n",
    "            targets = targets.to(self.device)\n",
    "\n",
    "            # forward\n",
    "            if scaler is not None:\n",
    "                with torch.cuda.amp.autocast(): #Speedup computation tricks. See https://pytorch.org/docs/stable/amp.html\n",
    "                    predictions = self.model(data)\n",
    "                    loss = loss_fn(predictions, targets)\n",
    "            else:\n",
    "                predictions = self.model(data)\n",
    "                loss = loss_fn(predictions, targets)\n",
    "\n",
    "            # backward\n",
    "            optimizer.zero_grad()\n",
    "            if scaler is not None:\n",
    "                scaler.scale(loss).backward()\n",
    "                scaler.step(optimizer)\n",
    "                scaler.update()\n",
    "            else:\n",
    "                loss.backward()\n",
    "                optimizer.step()\n",
    "\n",
    "            loop.set_postfix(loss=loss.item())\n",
    "\n",
    "    def train(self, train_input, train_target, num_epochs=1, batch_size=100, learning_rate=10e-4) -> None:\n",
    "        torch.cuda.empty_cache()\n",
    "        dataset = NoisyDataset(train_input, train_target)\n",
    "\n",
    "        loss_fn = nn.MSELoss()\n",
    "        optimizer = optim.Adam(self.model.parameters(), lr=learning_rate)\n",
    "\n",
    "        self.model.train()\n",
    "        for epoch in tqdm(range(num_epochs)):\n",
    "            dataloader = DataLoader(dataset, batch_size=batch_size, shuffle=True)\n",
    "            self.train_epoch(dataloader, optimizer, loss_fn)"
   ]
  },
  {
   "cell_type": "code",
   "execution_count": 3,
   "id": "e8be3268",
   "metadata": {},
   "outputs": [],
   "source": [
    "def compute_psnr(denoised, target, max_range=1.0):\n",
    "    assert denoised.shape == target.shape and denoised.ndim == 4\n",
    "    return 20 * torch.log10(torch.tensor(max_range)) - 10 * torch.log10(((denoised-target) ** 2).mean((1,2,3))).mean()\n",
    "\n",
    "def train_model(save_model=False, load_model=False):\n",
    "    model = Model()\n",
    "\n",
    "    train_input0, train_input1 = torch.load(train_dir)\n",
    "    val_input, val_target = torch.load(val_dir)\n",
    "\n",
    "    train_input0 = train_input0.float() / 255.0\n",
    "    train_input1 = train_input1.float() / 255.0\n",
    "    val_input = val_input.float() / 255.0\n",
    "    val_target = val_target.float() / 255.0\n",
    "\n",
    "    output_psnr_before = compute_psnr(val_input, val_target)\n",
    "\n",
    "    if load_model:\n",
    "        model.load_pretrained_model()\n",
    "    else:\n",
    "        model.train(train_input0, train_input1)\n",
    "        if save_model:\n",
    "            model.save_trained_model()\n",
    "\n",
    "    mini_batch_size = 100\n",
    "    model_outputs = []\n",
    "    for b in tqdm(range(0, val_input.size(0), mini_batch_size)):\n",
    "        output = model.predict(val_input.narrow(0, b, mini_batch_size))\n",
    "        model_outputs.append(output.cpu())\n",
    "    model_outputs = torch.cat(model_outputs, dim=0)\n",
    "\n",
    "    output_psnr_after = compute_psnr(model_outputs, val_target)\n",
    "    print(f\"[PSNR : {output_psnr_after:.2f} dB], PSNR before training = {output_psnr_before:.2f} dB\")"
   ]
  },
  {
   "cell_type": "code",
   "execution_count": 4,
   "id": "5d010b0d",
   "metadata": {
    "scrolled": false
   },
   "outputs": [
    {
     "data": {
      "application/vnd.jupyter.widget-view+json": {
       "model_id": "583f45718c4b4956a83c35f3e9b2cb94",
       "version_major": 2,
       "version_minor": 0
      },
      "text/plain": [
       "HBox(children=(FloatProgress(value=0.0, max=10.0), HTML(value='')))"
      ]
     },
     "metadata": {},
     "output_type": "display_data"
    },
    {
     "name": "stdout",
     "output_type": "stream",
     "text": [
      "\n",
      "[PSNR : 23.84 dB], PSNR untrained = 20.72\n"
     ]
    }
   ],
   "source": [
    "train_model(save_model=False, load_model=True)"
   ]
  },
  {
   "cell_type": "code",
   "execution_count": null,
   "id": "fb1db1d9",
   "metadata": {},
   "outputs": [],
   "source": []
  }
 ],
 "metadata": {
  "kernelspec": {
   "display_name": "Python 3",
   "language": "python",
   "name": "python3"
  },
  "language_info": {
   "codemirror_mode": {
    "name": "ipython",
    "version": 3
   },
   "file_extension": ".py",
   "mimetype": "text/x-python",
   "name": "python",
   "nbconvert_exporter": "python",
   "pygments_lexer": "ipython3",
   "version": "3.6.13"
  }
 },
 "nbformat": 4,
 "nbformat_minor": 5
}
