{
 "cells": [
  {
   "cell_type": "markdown",
   "metadata": {},
   "source": [
    "## Part 1\n",
    "#### To-do\n",
    "* Note that `predict` method should take as input a tensor with values in 0-255 and should output a tensor with values in 0-255\n",
    "* Test with RED30 model"
   ]
  },
  {
   "cell_type": "code",
   "execution_count": 5,
   "metadata": {},
   "outputs": [
    {
     "data": {
      "text/plain": [
       "<matplotlib.image.AxesImage at 0x20f02a48748>"
      ]
     },
     "execution_count": 5,
     "metadata": {},
     "output_type": "execute_result"
    },
    {
     "data": {
      "image/png": "[encoded data removed]",
      "text/plain": [
       "<Figure size 432x288 with 1 Axes>"
      ]
     },
     "metadata": {
      "needs_background": "light"
     },
     "output_type": "display_data"
    }
   ],
   "source": [
    "import torch\n",
    "import matplotlib.pyplot as plt\n",
    "\n",
    "torch.set_grad_enabled(True)\n",
    "\n",
    "train_dir = \"train_data.pkl\"\n",
    "val_dir = \"val_data.pkl\"\n",
    "noisy_imgs_1 , noisy_imgs_2 = torch.load(\"train_data.pkl\")\n",
    "noisy_imgs , clean_imgs = torch.load(\"val_data.pkl\")\n",
    "\n",
    "plt.imshow((noisy_imgs_1[1].float()/255.0).permute(1, 2, 0))"
   ]
  },
  {
   "cell_type": "code",
   "execution_count": 10,
   "metadata": {
    "scrolled": false
   },
   "outputs": [
    {
     "data": {
      "application/vnd.jupyter.widget-view+json": {
       "model_id": "ea27c11d85a9499fb0a8f0c24e3f13fd",
       "version_major": 2,
       "version_minor": 0
      },
      "text/plain": [
       "HBox(children=(FloatProgress(value=0.0, max=2.0), HTML(value='')))"
      ]
     },
     "metadata": {},
     "output_type": "display_data"
    },
    {
     "data": {
      "application/vnd.jupyter.widget-view+json": {
       "model_id": "2e781d4089574078bc9e6141467a8ad5",
       "version_major": 2,
       "version_minor": 0
      },
      "text/plain": [
       "HBox(children=(FloatProgress(value=0.0, max=500.0), HTML(value='')))"
      ]
     },
     "metadata": {},
     "output_type": "display_data"
    },
    {
     "name": "stdout",
     "output_type": "stream",
     "text": [
      "\n"
     ]
    },
    {
     "data": {
      "application/vnd.jupyter.widget-view+json": {
       "model_id": "81534281ebd44870b0162d7f32967bd1",
       "version_major": 2,
       "version_minor": 0
      },
      "text/plain": [
       "HBox(children=(FloatProgress(value=0.0, max=500.0), HTML(value='')))"
      ]
     },
     "metadata": {},
     "output_type": "display_data"
    },
    {
     "name": "stdout",
     "output_type": "stream",
     "text": [
      "\n",
      "\n"
     ]
    },
    {
     "data": {
      "application/vnd.jupyter.widget-view+json": {
       "model_id": "bb13f6483e8f479fa80e3deacb19c1df",
       "version_major": 2,
       "version_minor": 0
      },
      "text/plain": [
       "HBox(children=(FloatProgress(value=0.0, max=10.0), HTML(value='')))"
      ]
     },
     "metadata": {},
     "output_type": "display_data"
    },
    {
     "name": "stdout",
     "output_type": "stream",
     "text": [
      "\n",
      "[PSNR : 23.11 dB], PSNR before training = 20.72 dB\n"
     ]
    }
   ],
   "source": [
    "from train import *\n",
    "from unet import *\n",
    "import torch.nn as nn\n",
    "import torch.optim as optim\n",
    "\n",
    "model = Unet(3, 3)\n",
    "optim = optim.Adam(model.parameters(), lr=10e-4)\n",
    "loss_fn = nn.MSELoss()\n",
    "\n",
    "model_outputs = train_model(load_model=False, save_model=False, \n",
    "                            model=model, optimizer=optim, loss_fn=loss_fn, \n",
    "                            batch_size=100, num_epochs=2)"
   ]
  },
  {
   "cell_type": "code",
   "execution_count": 11,
   "metadata": {},
   "outputs": [
    {
     "data": {
      "image/png": "[encoded data removed]",
      "text/plain": [
       "<Figure size 432x288 with 1 Axes>"
      ]
     },
     "metadata": {
      "needs_background": "light"
     },
     "output_type": "display_data"
    }
   ],
   "source": [
    "from utils import *\n",
    "\n",
    "i = 10\n",
    "plot_prediction_clean(noisy_imgs[i].float()/255.0, clean_imgs[i].float()/255.0, model_outputs[i])"
   ]
  },
  {
   "cell_type": "markdown",
   "metadata": {},
   "source": [
    "## Part 2\n",
    "* Implementation of Conv2d : https://coolgpu.github.io/coolgpu_blog/github/pages/2020/10/04/convolution.html and https://github.com/coolgpu/Demo_Conv2d_forward_and_backward/blob/master/my_conv2d_v1.py\n",
    "* Implementation of transposed convolution (if needed) : https://coolgpu.github.io/coolgpu_blog/github/pages/2021/02/18/transposed_convolution.html\n",
    "* Chain rule gradients and stuff : https://coolgpu.github.io/coolgpu_blog/github/pages/2020/09/14/backpropagation.html#_Derivation_of_the_gradients\n",
    "#### To-do\n",
    "* Weight initialization function (for example xavier init) ? see https://stackoverflow.com/questions/49433936/how-to-initialize-weights-in-pytorch\n",
    "* Refine modules so that their arguments match exactly their pytorch counterparts"
   ]
  },
  {
   "cell_type": "code",
   "execution_count": null,
   "metadata": {},
   "outputs": [],
   "source": [
    "import torch\n",
    "torch.set_grad_enabled(False)"
   ]
  },
  {
   "cell_type": "code",
   "execution_count": null,
   "metadata": {},
   "outputs": [],
   "source": [
    "import torch.nn as nn\n",
    "\n",
    "## Test the requested netwok using PyTorch to be able to compare with our implementation\n",
    "class SimpleNet(nn.Module):\n",
    "    def __init__(self, in_ch, out_ch):\n",
    "        super(SimpleNet, self).__init__()\n",
    "        self.seq = nn.Sequential(\n",
    "            nn.Conv2d(in_ch, 64, 3, stride=2, padding=1),\n",
    "            nn.ReLU(inplace=True),\n",
    "            nn.Conv2d(64, 128, 3, stride=2, padding=1),\n",
    "            nn.ReLU(inplace=True),\n",
    "            nn.Upsample(scale_factor=2),\n",
    "            nn.Conv2d(128, 64, 3, padding=1),\n",
    "            nn.ReLU(inplace=True),\n",
    "            nn.Upsample(scale_factor=2),\n",
    "            nn.Conv2d(64, out_ch, 3, padding=1),\n",
    "            nn.Sigmoid(inplace=True)\n",
    "        )\n",
    "\n",
    "    def forward(self, x):\n",
    "        return self.seq(x)"
   ]
  },
  {
   "cell_type": "code",
   "execution_count": null,
   "metadata": {},
   "outputs": [],
   "source": [
    "from torch import empty, cat, arange\n",
    "from torch.nn.functional import fold, unfold\n",
    "\n",
    "class Conv2d(object):\n",
    "    \n",
    "    def __init__(self, in_channels, out_channels, kernel_size, stride=1, padding=0, bias=True):\n",
    "        self.id = 'Conv2d'\n",
    "        self.in_channels = in_channels\n",
    "        self.out_channels = out_channels\n",
    "        self.kernel_size = kernel_size\n",
    "        self.stride = stride\n",
    "        self.padding = padding\n",
    "        self.weights = torch.zeros((out_channels, in_channels, kernel_size, kernel_size), dtype=torch.float) #change to torch.empty\n",
    "        self.bias = None\n",
    "        if bias:\n",
    "            self.bias = torch.zeros((out_channels), dtype=torch.float)\n",
    "    \n",
    "    def forward(self, input_t):\n",
    "        assert input_t.ndim == 4 and input_t.shape[1] == self.in_channels, f\"input tensor should be of shape (nImages, {self.in_channels}, Y, X)\"\n",
    "        self.in_size_y = input_t.shape[2]\n",
    "        self.in_size_x = input_t.shape[3]\n",
    "        \n",
    "        #General formula for computing the output sizes of images depending on the input size, the kernel size, the padding and the stride.\n",
    "        self.out_size_y = ((self.in_size_y + 2*self.padding - self.kernel_size) // self.stride) + 1\n",
    "        self.out_size_x = ((self.in_size_x + 2*self.padding - self.kernel_size) // self.stride) + 1\n",
    "        \n",
    "        #Here we use unfold to facilitate the sliding window operations of our convolution\n",
    "        # unfold takes an input a tensor of shape (N, C, Y, X) where N is the number of 2D images, C is the number of channels per image, \n",
    "        # Y, X is the dimension of each 2D image. Unfold also takes as input the kernel size K (in our convolution we assume the kernel to always be a square, thus number of elements in kernel is K*K).\n",
    "        # For each image, unfold extracts patches of same size as the kernel size, for each channel.\n",
    "        # Each patch can be seen a 1D vertical vector (instead of a 2D matrix), and patches of the same channel are concatenated so as to obtain, for one channel, a 2D matrix of shape (K*K, out_size_y*out_size_x). Patches are concatenated in order from left to right and from top to bottom.\n",
    "        # Then matrices of each channel are concatenated vertically so as to obtain a 2D matrix of shape (C*K*K, out_size_y*out_size_x). Matrices are concatenated in order of channels.\n",
    "        # out_size_y represents the Y axis of output image, out_size_x represents the X axis of output image.\n",
    "        # Since this procedure is done for each image, the resulting tensor of unfold is of shape (N, C*K*K, out_size_y*out_size_x).\n",
    "        patch_tensor = torch.nn.functional.unfold(input_t, (self.kernel_size, self.kernel_size), padding=self.padding, stride=self.stride)\n",
    "        \n",
    "        #Useful for backward pass\n",
    "        self.input_unfolded = patch_tensor\n",
    "        \n",
    "        # Transpose the patches tensor so as to obtain, for each image, the C patches of same location in a row instead of in a column.\n",
    "        patch_tensor = patch_tensor.transpose(1, 2)\n",
    "        \n",
    "        #Reshape the kernel so as to match the shape of patches in patches tensor. Note that each row in the patches tensor is of size C*K*K,\n",
    "        # and each row in the reshaped kernel is also of size (C*K*K).\n",
    "        kernel_w = self.weights.view(self.out_channels, -1)\n",
    "        \n",
    "        #For matrix multiplication (apply the kernel on the patches) of the patches tensor with the reshaped kernel, we transpose the reshaped kernel so as to have C*K*K rows.\n",
    "        kernel_w = kernel_w.t()\n",
    "        \n",
    "        #Matrix multiplication, i.e. apply kernel on patches\n",
    "        #Resulting conv has shape (N, out_size_y*out_size_x, out_channels)\n",
    "        conv = patch_tensor @ kernel_w\n",
    "        \n",
    "        #Transpose and reshape to match the input tensor shape (batch of images), get shape (N, out_channels, out_size_y, out_size_x)\n",
    "        output_t = conv.transpose(1, 2).reshape(input_t.shape[0], self.out_channels, out_size_y, out_size_x)\n",
    "        \n",
    "        #Add bias if needed\n",
    "        if self.bias is not None:\n",
    "            output_t += self.bias.view(1, self.out_channels, 1, 1)\n",
    "        \n",
    "        return output_t\n",
    "        \n",
    "    def backward(self, grad_output):\n",
    "        assert (grad_output.ndim == 4 and grad_output.shape[1] == self.out_channels \n",
    "        and grad_output.shape[2] == self.out_size_y and grad_output.shape[3] == self.out_size_x), \n",
    "        f\"input tensor should be of shape (nImages, {self.out_channels}, {self.out_size_y}, {self.out_size_x})\"\n",
    "        \n",
    "        #Reshape into (N, out_channels, out_size_y*out_size_x)\n",
    "        grad_out_reshaped = grad_output.reshape(grad_output.shape[0], self.out_channels, -1)\n",
    "        \n",
    "        #Transpose to pass channels in last dimension to get (N, out_size_y*out_size_x, out_channels)\n",
    "        grad_out_reshaped = grad_out_reshaped.transpose(1, 2)\n",
    "        \n",
    "        #Compute gradient of loss wrt input using the kernel weights. Resulting shape (N, out_size_y*out_size_x, C*K*K).\n",
    "        #C = A@B => d_l/d_A = d_l/d_C @ B.t, out = in@weights => d_l/d_in = d_l/d_out @ weights\n",
    "        grad_input_unfolded = grad_out_reshaped @ self.weights.view(self.out_channels, -1)\n",
    "        \n",
    "        #Reshape gradient of loss wrt input by \"unpatching\" the images to obtain a (N, C, in_size_y, in_size_x) tensor\n",
    "        grad_input = torch.nn.functional.fold(grad_input_unfolded.transpose(1, 2), (self.in_size_y, self.in_size_x), (self.kernel_size, self.kernel_size), padding=self.padding, stride=self.stride)\n",
    "        assert grad_input.shape == (grad_output.shape[0], self.in_channels, self.in_size_y, self.in_size_x)\n",
    "        \n",
    "        #Compute gradient of loss wrt weight kernel. Resulting shape (N, C*K*K, out_channels)\n",
    "        #C = A@B => d_l/d_B = A.t @ d_l/d_C, since out=in@w (unfolded), d_l/d_w = in.t @ d_l/d_out\n",
    "        grad_weights = self.input_unfolded @ grad_out_reshaped\n",
    "        \n",
    "        #Sum over the batch of N images (sum over the gradients of images). Resulting shape (C*K*K, out_channels)\n",
    "        self.grad_weights = grad_weights.sum(dim=0)\n",
    "        \n",
    "        #Reshape to obtain original weights shape (out_channels, in_channels (C), K, K)\n",
    "        self.grad_weights = self.grad_weights.t().view(self.out_channels, self.in_channels, self.kernel_size, self.kernel_size)\n",
    "        \n",
    "        self.grad_bias = None\n",
    "        if self.bias is not None:\n",
    "            #For each image, sum over full image to obtain 1 bias value for each \"out_channel\" channel.\n",
    "            #Sum over the batch of N images (sum over the gradients of images). Resulting shape (out_channels).\n",
    "            self.grad_bias = grad_output.sum(dim=[0, 2, 3])\n",
    "        return grad_input\n",
    "        \n",
    "    def parameters(self):\n",
    "        return [(self.weights, self.grad_weights), (self.bias, self.grad_bias)]"
   ]
  },
  {
   "cell_type": "code",
   "execution_count": null,
   "metadata": {},
   "outputs": [],
   "source": [
    "class Upsample(object):\n",
    "    \n",
    "    def __init__(self, scale_factor=1):\n",
    "        self.id = 'Upsample'\n",
    "        self.scale_factor = scale_factor\n",
    "    \n",
    "    def forward(self, input_t):\n",
    "        \n",
    "        \n",
    "    def backward(self, grad_output):\n",
    "        raise NotImplementedError\n",
    "        \n",
    "    def parameters(self):\n",
    "        return []"
   ]
  },
  {
   "cell_type": "code",
   "execution_count": null,
   "metadata": {},
   "outputs": [],
   "source": [
    "class Sigmoid(object):\n",
    "    \n",
    "    def __init__(self):\n",
    "        self.id = 'Sigmoid'\n",
    "        \n",
    "    def forward(self, input_t):\n",
    "        self.sig = input_t.sigmoid()\n",
    "        return self.sig\n",
    "        \n",
    "    #grad_output is d_l/d_x and we want to compute d_l/d_s\n",
    "    def backward(self, grad_output):\n",
    "        #sig*(1-sig)\n",
    "        grad_sig = self.sig.mul(1-self.sig)\n",
    "        return grad_output.mul(grad_sig)\n",
    "        \n",
    "    def parameters(self):\n",
    "        return []"
   ]
  },
  {
   "cell_type": "code",
   "execution_count": null,
   "metadata": {},
   "outputs": [],
   "source": [
    "class ReLU(object):\n",
    "    \n",
    "    def __init__(self):\n",
    "        self.id = 'ReLU'\n",
    "\n",
    "    def forward(self, input_t):\n",
    "        #max(0, x)\n",
    "        self.relu = input_t.maximum(0)\n",
    "        return self.relu\n",
    "        \n",
    "        \n",
    "    def backward(self, grad_output):\n",
    "        #sign(max(0, x))\n",
    "        grad_relu = self.relu.gt(0).int().float()\n",
    "        return grad_output.mul(grad_relu)\n",
    "        \n",
    "    def parameters(self):\n",
    "        return []"
   ]
  },
  {
   "cell_type": "code",
   "execution_count": null,
   "metadata": {},
   "outputs": [],
   "source": [
    "class Sequential(object):\n",
    "    def __init__(self, *modules):\n",
    "        self.id = 'Sequential'\n",
    "        self.modules = [m for m in modules]\n",
    "        \n",
    "    def modules():\n",
    "        return self.modules\n",
    "    \n",
    "    def forward(self, input_t):\n",
    "        x = input_t.clone()\n",
    "        for module in self.modules:\n",
    "            x = module.forward(x)\n",
    "        return x\n",
    "        \n",
    "    def backward(self, grad_output):\n",
    "        x = grad_output.clone()\n",
    "        for module in self.modules:\n",
    "            x = module.backward(x)\n",
    "        return x\n",
    "        \n",
    "    def parameters(self):\n",
    "        params = []\n",
    "        for module in self.modules:\n",
    "            if module.id == 'Sequential':\n",
    "                for seq_module in module.parameters():\n",
    "                    params.append(seq_module.parameters())\n",
    "            elif module.parameters():\n",
    "                params.append(module.parameters())\n",
    "        return params"
   ]
  },
  {
   "cell_type": "code",
   "execution_count": null,
   "metadata": {},
   "outputs": [],
   "source": [
    "class MSELoss(object):\n",
    "    \n",
    "    def __init__(self):\n",
    "        pass\n",
    "    \n",
    "    def forward(self, pred, target):\n",
    "        assert pred.shape == target.shape and pred.ndim == 4, \"shapes need 4 dimensions and should match\"\n",
    "        self.pred = pred\n",
    "        self.target = target\n",
    "        return (pred - target).square().sum(dim=0).div(pred.shape[0])\n",
    "        \n",
    "    def backward(self):\n",
    "        return 2*(self.pred - self.target)\n",
    "        \n",
    "    def parameters(self):\n",
    "        return []"
   ]
  },
  {
   "cell_type": "code",
   "execution_count": null,
   "metadata": {},
   "outputs": [],
   "source": [
    "class CustomNN(object):\n",
    "    def __init__(self, in_ch, out_ch):\n",
    "        self.seq = Sequential(\n",
    "            Conv2d(in_ch, 64, 3, stride=2, padding=1),\n",
    "            ReLU(),\n",
    "            Conv2d(64, 128, 3, stride=2, padding=1),\n",
    "            ReLU(),\n",
    "            Upsample(scale_factor=2),\n",
    "            Conv2d(128, 64, 3, padding=1),\n",
    "            ReLU(),\n",
    "            Upsample(scale_factor=2),\n",
    "            Conv2d(64, out_ch, 3, padding=1),\n",
    "            Sigmoid()\n",
    "        )\n",
    "        \n",
    "    def forward(self, x):\n",
    "        return self.seq.forward(x)\n",
    "    \n",
    "    def backward(self, grad_loss):\n",
    "        return self.seq.backward(grad_loss)\n",
    "    \n",
    "    def parameters(self):\n",
    "        return self.seq.parameters()"
   ]
  },
  {
   "cell_type": "code",
   "execution_count": null,
   "metadata": {},
   "outputs": [],
   "source": [
    "class SGD(object):\n",
    "    def __init__(self, model_params, lr=0.001):\n",
    "        self.model_params = model_params\n",
    "        self.lr = lr\n",
    "        \n",
    "    def step(self):\n",
    "        for i in range(len(self.model_params)):\n",
    "            for j in range(len(self.model_params[i])):\n",
    "                if self.model_params[i, j][0] is not None and self.model_params[i, j][1] is not None:\n",
    "                    self.model_params[i, j][0] -= lr*self.model_params[i, j][1]"
   ]
  },
  {
   "cell_type": "code",
   "execution_count": null,
   "metadata": {},
   "outputs": [],
   "source": [
    "model = CustomNN()\n",
    "loss_fn = MSELoss()\n",
    "optimizer = SGD(model.parameters(), lr=0.001)\n",
    "\n",
    "loop = tqdm(loader)\n",
    "\n",
    "for data, targets in loop:\n",
    "\n",
    "    # forward\n",
    "    predictions = model.forward(data)\n",
    "    loss = loss_fn.forward(predictions, targets)\n",
    "\n",
    "    # backward\n",
    "    #optimizer.zero_grad()\n",
    "    model.backward(loss_fn.backward())\n",
    "    optimizer.step()\n",
    "\n",
    "    loop.set_postfix(loss=loss.item())"
   ]
  },
  {
   "cell_type": "code",
   "execution_count": 21,
   "metadata": {},
   "outputs": [
    {
     "name": "stdout",
     "output_type": "stream",
     "text": [
      "tensor([[[ 1.,  1.,  1.,  2.,  2.,  2.,  3.,  3.,  3.],\n",
      "         [ 1.,  1.,  1.,  2.,  2.,  2.,  3.,  3.,  3.],\n",
      "         [ 1.,  1.,  1.,  2.,  2.,  2.,  3.,  3.,  3.],\n",
      "         [ 2.,  2.,  2.,  3.,  3.,  3.,  4.,  4.,  4.],\n",
      "         [ 2.,  2.,  2.,  3.,  3.,  3.,  4.,  4.,  4.],\n",
      "         [ 2.,  2.,  2.,  3.,  3.,  3.,  4.,  4.,  4.],\n",
      "         [ 3.,  3.,  3.,  4.,  4.,  4.,  5.,  5.,  5.],\n",
      "         [ 3.,  3.,  3.,  4.,  4.,  4.,  5.,  5.,  5.],\n",
      "         [ 3.,  3.,  3.,  4.,  4.,  4.,  5.,  5.,  5.],\n",
      "         [ 6.,  6.,  6.,  7.,  7.,  7.,  8.,  8.,  8.],\n",
      "         [ 6.,  6.,  6.,  7.,  7.,  7.,  8.,  8.,  8.],\n",
      "         [ 6.,  6.,  6.,  7.,  7.,  7.,  8.,  8.,  8.],\n",
      "         [ 7.,  7.,  7.,  8.,  8.,  8.,  9.,  9.,  9.],\n",
      "         [ 7.,  7.,  7.,  8.,  8.,  8.,  9.,  9.,  9.],\n",
      "         [ 7.,  7.,  7.,  8.,  8.,  8.,  9.,  9.,  9.],\n",
      "         [ 8.,  8.,  8.,  9.,  9.,  9., 10., 10., 10.],\n",
      "         [ 8.,  8.,  8.,  9.,  9.,  9., 10., 10., 10.],\n",
      "         [ 8.,  8.,  8.,  9.,  9.,  9., 10., 10., 10.],\n",
      "         [11., 11., 11., 12., 12., 12., 13., 13., 13.],\n",
      "         [11., 11., 11., 12., 12., 12., 13., 13., 13.],\n",
      "         [11., 11., 11., 12., 12., 12., 13., 13., 13.],\n",
      "         [12., 12., 12., 13., 13., 13., 14., 14., 14.],\n",
      "         [12., 12., 12., 13., 13., 13., 14., 14., 14.],\n",
      "         [12., 12., 12., 13., 13., 13., 14., 14., 14.],\n",
      "         [13., 13., 13., 14., 14., 14., 15., 15., 15.],\n",
      "         [13., 13., 13., 14., 14., 14., 15., 15., 15.],\n",
      "         [13., 13., 13., 14., 14., 14., 15., 15., 15.]],\n",
      "\n",
      "        [[ 1.,  1.,  1.,  2.,  2.,  2.,  3.,  3.,  3.],\n",
      "         [ 1.,  1.,  1.,  2.,  2.,  2.,  3.,  3.,  3.],\n",
      "         [ 1.,  1.,  1.,  2.,  2.,  2.,  3.,  3.,  3.],\n",
      "         [ 2.,  2.,  2.,  3.,  3.,  3.,  4.,  4.,  4.],\n",
      "         [ 2.,  2.,  2.,  3.,  3.,  3.,  4.,  4.,  4.],\n",
      "         [ 2.,  2.,  2.,  3.,  3.,  3.,  4.,  4.,  4.],\n",
      "         [ 3.,  3.,  3.,  4.,  4.,  4.,  5.,  5.,  5.],\n",
      "         [ 3.,  3.,  3.,  4.,  4.,  4.,  5.,  5.,  5.],\n",
      "         [ 3.,  3.,  3.,  4.,  4.,  4.,  5.,  5.,  5.],\n",
      "         [ 6.,  6.,  6.,  7.,  7.,  7.,  8.,  8.,  8.],\n",
      "         [ 6.,  6.,  6.,  7.,  7.,  7.,  8.,  8.,  8.],\n",
      "         [ 6.,  6.,  6.,  7.,  7.,  7.,  8.,  8.,  8.],\n",
      "         [ 7.,  7.,  7.,  8.,  8.,  8.,  9.,  9.,  9.],\n",
      "         [ 7.,  7.,  7.,  8.,  8.,  8.,  9.,  9.,  9.],\n",
      "         [ 7.,  7.,  7.,  8.,  8.,  8.,  9.,  9.,  9.],\n",
      "         [ 8.,  8.,  8.,  9.,  9.,  9., 10., 10., 10.],\n",
      "         [ 8.,  8.,  8.,  9.,  9.,  9., 10., 10., 10.],\n",
      "         [ 8.,  8.,  8.,  9.,  9.,  9., 10., 10., 10.],\n",
      "         [11., 11., 11., 12., 12., 12., 13., 13., 13.],\n",
      "         [11., 11., 11., 12., 12., 12., 13., 13., 13.],\n",
      "         [11., 11., 11., 12., 12., 12., 13., 13., 13.],\n",
      "         [12., 12., 12., 13., 13., 13., 14., 14., 14.],\n",
      "         [12., 12., 12., 13., 13., 13., 14., 14., 14.],\n",
      "         [12., 12., 12., 13., 13., 13., 14., 14., 14.],\n",
      "         [13., 13., 13., 14., 14., 14., 15., 15., 15.],\n",
      "         [13., 13., 13., 14., 14., 14., 15., 15., 15.],\n",
      "         [13., 13., 13., 14., 14., 14., 15., 15., 15.]]])\n",
      "tensor([[[[  1.,   2.,   3.,   2.,   1.],\n",
      "          [  4.,   8.,  12.,   8.,   4.],\n",
      "          [  9.,  18.,  27.,  18.,   9.],\n",
      "          [  8.,  16.,  24.,  16.,   8.],\n",
      "          [  5.,  10.,  15.,  10.,   5.]],\n",
      "\n",
      "         [[  6.,  12.,  18.,  12.,   6.],\n",
      "          [ 14.,  28.,  42.,  28.,  14.],\n",
      "          [ 24.,  48.,  72.,  48.,  24.],\n",
      "          [ 18.,  36.,  54.,  36.,  18.],\n",
      "          [ 10.,  20.,  30.,  20.,  10.]],\n",
      "\n",
      "         [[ 11.,  22.,  33.,  22.,  11.],\n",
      "          [ 24.,  48.,  72.,  48.,  24.],\n",
      "          [ 39.,  78., 117.,  78.,  39.],\n",
      "          [ 28.,  56.,  84.,  56.,  28.],\n",
      "          [ 15.,  30.,  45.,  30.,  15.]]],\n",
      "\n",
      "\n",
      "        [[[  1.,   2.,   3.,   2.,   1.],\n",
      "          [  4.,   8.,  12.,   8.,   4.],\n",
      "          [  9.,  18.,  27.,  18.,   9.],\n",
      "          [  8.,  16.,  24.,  16.,   8.],\n",
      "          [  5.,  10.,  15.,  10.,   5.]],\n",
      "\n",
      "         [[  6.,  12.,  18.,  12.,   6.],\n",
      "          [ 14.,  28.,  42.,  28.,  14.],\n",
      "          [ 24.,  48.,  72.,  48.,  24.],\n",
      "          [ 18.,  36.,  54.,  36.,  18.],\n",
      "          [ 10.,  20.,  30.,  20.,  10.]],\n",
      "\n",
      "         [[ 11.,  22.,  33.,  22.,  11.],\n",
      "          [ 24.,  48.,  72.,  48.,  24.],\n",
      "          [ 39.,  78., 117.,  78.,  39.],\n",
      "          [ 28.,  56.,  84.,  56.,  28.],\n",
      "          [ 15.,  30.,  45.,  30.,  15.]]]])\n"
     ]
    }
   ],
   "source": [
    "import torch\n",
    "from torch.nn.functional import fold, unfold\n",
    "\n",
    "unfold = torch.nn.Unfold((3, 3), padding=0, stride=1)\n",
    "a = torch.tensor([\n",
    "            [[[1, 1, 1, 1, 1], [2, 2, 2, 2, 2], [3, 3, 3, 3, 3], [4, 4, 4, 4, 4], [5, 5, 5, 5, 5]], [[6, 6, 6, 6, 6], [7, 7, 7, 7, 7], [8, 8, 8, 8, 8], [9, 9, 9, 9, 9], [10, 10, 10, 10, 10]], [[11, 11, 11, 11, 11], [12, 12, 12, 12, 12], [13, 13, 13, 13, 13], [14, 14, 14, 14, 14], [15, 15, 15, 15, 15]]], \n",
    "             [[[1, 1, 1, 1, 1], [2, 2, 2, 2, 2], [3, 3, 3, 3, 3], [4, 4, 4, 4, 4], [5, 5, 5, 5, 5]], [[6, 6, 6, 6, 6], [7, 7, 7, 7, 7], [8, 8, 8, 8, 8], [9, 9, 9, 9, 9], [10, 10, 10, 10, 10]], [[11, 11, 11, 11, 11], [12, 12, 12, 12, 12], [13, 13, 13, 13, 13], [14, 14, 14, 14, 14], [15, 15, 15, 15, 15]]]\n",
    "             ], dtype=torch.float)\n",
    "\n",
    "u1 = unfold(a)\n",
    "print(u1)\n",
    "print(torch.nn.functional.fold(u1, (5, 5), (3, 3), padding=0, stride=1))\n",
    "#print(a.sum(dim=[0, 2, 3]))"
   ]
  },
  {
   "cell_type": "code",
   "execution_count": 1,
   "metadata": {},
   "outputs": [
    {
     "ename": "ModuleNotFoundError",
     "evalue": "No module named 'torch'",
     "output_type": "error",
     "traceback": [
      "\u001b[0;31m---------------------------------------------------------------------------\u001b[0m",
      "\u001b[0;31mModuleNotFoundError\u001b[0m                       Traceback (most recent call last)",
      "\u001b[0;32m<ipython-input-1-9e1ce94507bb>\u001b[0m in \u001b[0;36m<module>\u001b[0;34m\u001b[0m\n\u001b[0;32m----> 1\u001b[0;31m \u001b[0;32mimport\u001b[0m \u001b[0mtorch\u001b[0m\u001b[0;34m\u001b[0m\u001b[0;34m\u001b[0m\u001b[0m\n\u001b[0m\u001b[1;32m      2\u001b[0m \u001b[0;34m\u001b[0m\u001b[0m\n\u001b[1;32m      3\u001b[0m \u001b[0ma\u001b[0m \u001b[0;34m=\u001b[0m \u001b[0mtorch\u001b[0m\u001b[0;34m.\u001b[0m\u001b[0mtensor\u001b[0m\u001b[0;34m(\u001b[0m\u001b[0;34m[\u001b[0m\u001b[0;34m[\u001b[0m\u001b[0;34m[\u001b[0m\u001b[0;36m1\u001b[0m\u001b[0;34m,\u001b[0m \u001b[0;36m2\u001b[0m\u001b[0;34m,\u001b[0m \u001b[0;36m3\u001b[0m\u001b[0;34m]\u001b[0m\u001b[0;34m,\u001b[0m \u001b[0;34m[\u001b[0m\u001b[0;36m4\u001b[0m\u001b[0;34m,\u001b[0m \u001b[0;36m5\u001b[0m\u001b[0;34m,\u001b[0m \u001b[0;36m6\u001b[0m\u001b[0;34m]\u001b[0m\u001b[0;34m,\u001b[0m \u001b[0;34m[\u001b[0m\u001b[0;36m7\u001b[0m\u001b[0;34m,\u001b[0m \u001b[0;36m8\u001b[0m\u001b[0;34m,\u001b[0m \u001b[0;36m9\u001b[0m\u001b[0;34m]\u001b[0m\u001b[0;34m]\u001b[0m\u001b[0;34m,\u001b[0m \u001b[0;34m[\u001b[0m\u001b[0;34m[\u001b[0m\u001b[0;36m1\u001b[0m\u001b[0;34m,\u001b[0m \u001b[0;36m2\u001b[0m\u001b[0;34m,\u001b[0m \u001b[0;36m3\u001b[0m\u001b[0;34m]\u001b[0m\u001b[0;34m,\u001b[0m \u001b[0;34m[\u001b[0m\u001b[0;36m4\u001b[0m\u001b[0;34m,\u001b[0m \u001b[0;36m5\u001b[0m\u001b[0;34m,\u001b[0m \u001b[0;36m6\u001b[0m\u001b[0;34m]\u001b[0m\u001b[0;34m,\u001b[0m \u001b[0;34m[\u001b[0m\u001b[0;36m7\u001b[0m\u001b[0;34m,\u001b[0m \u001b[0;36m8\u001b[0m\u001b[0;34m,\u001b[0m \u001b[0;36m9\u001b[0m\u001b[0;34m]\u001b[0m\u001b[0;34m]\u001b[0m\u001b[0;34m,\u001b[0m \u001b[0;34m[\u001b[0m\u001b[0;34m[\u001b[0m\u001b[0;36m1\u001b[0m\u001b[0;34m,\u001b[0m \u001b[0;36m2\u001b[0m\u001b[0;34m,\u001b[0m \u001b[0;36m3\u001b[0m\u001b[0;34m]\u001b[0m\u001b[0;34m,\u001b[0m \u001b[0;34m[\u001b[0m\u001b[0;36m4\u001b[0m\u001b[0;34m,\u001b[0m \u001b[0;36m5\u001b[0m\u001b[0;34m,\u001b[0m \u001b[0;36m6\u001b[0m\u001b[0;34m]\u001b[0m\u001b[0;34m,\u001b[0m \u001b[0;34m[\u001b[0m\u001b[0;36m7\u001b[0m\u001b[0;34m,\u001b[0m \u001b[0;36m8\u001b[0m\u001b[0;34m,\u001b[0m \u001b[0;36m9\u001b[0m\u001b[0;34m]\u001b[0m\u001b[0;34m]\u001b[0m\u001b[0;34m]\u001b[0m\u001b[0;34m)\u001b[0m\u001b[0;34m\u001b[0m\u001b[0;34m\u001b[0m\u001b[0m\n\u001b[1;32m      4\u001b[0m \u001b[0mprint\u001b[0m\u001b[0;34m(\u001b[0m\u001b[0ma\u001b[0m\u001b[0;34m)\u001b[0m\u001b[0;34m\u001b[0m\u001b[0;34m\u001b[0m\u001b[0m\n",
      "\u001b[0;31mModuleNotFoundError\u001b[0m: No module named 'torch'"
     ]
    }
   ],
   "source": [
    "import torch\n",
    "\n",
    "a = torch.tensor([[[[1, 2, 3], [4, 5, 6], [7, 8, 9]], [[1, 2, 3], [4, 5, 6], [7, 8, 9]], [[1, 2, 3], [4, 5, 6], [7, 8, 9]]]])\n",
    "print(a)"
   ]
  },
  {
   "cell_type": "code",
   "execution_count": null,
   "metadata": {},
   "outputs": [],
   "source": []
  }
 ],
 "metadata": {
  "kernelspec": {
   "display_name": "Python 3",
   "language": "python",
   "name": "python3"
  },
  "language_info": {
   "codemirror_mode": {
    "name": "ipython",
    "version": 3
   },
   "file_extension": ".py",
   "mimetype": "text/x-python",
   "name": "python",
   "nbconvert_exporter": "python",
   "pygments_lexer": "ipython3",
   "version": "3.7.3"
  }
 },
 "nbformat": 4,
 "nbformat_minor": 5
}
